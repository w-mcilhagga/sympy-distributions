{
 "cells": [
  {
   "cell_type": "markdown",
   "metadata": {},
   "source": [
    "# Probability Distributions.\n",
    "\n",
    "Dissatisfied with the limitations of the sympy stats module, I needed to create my own for another project. \n",
    "The `distributions.py` module defines a large number of statistical distributions as `symbol`s, and lets \n",
    "you work out the expected value of integer powers of them.\n",
    "\n",
    "To get started, `import` the `distributions.py` file. You'll need to have `sympy` installed."
   ]
  },
  {
   "cell_type": "code",
   "execution_count": 1,
   "metadata": {},
   "outputs": [],
   "source": [
    "import sympy as sp\n",
    "import distributions as d\n",
    "\n",
    "# rename the expected value and probability functions:\n",
    "E = d.E\n",
    "pr = d.pr\n",
    "\n",
    "# NB: d.log applies sympy.log with forced expansion"
   ]
  },
  {
   "cell_type": "code",
   "execution_count": 2,
   "metadata": {},
   "outputs": [],
   "source": [
    "# code to display a tuple of sympy expr as math\n",
    "import IPython.display as display\n",
    "\n",
    "def showmath(*args):\n",
    "    return display.Math(',\\\\;'.join([sp.latex(a) for a in args]))"
   ]
  },
  {
   "cell_type": "markdown",
   "metadata": {},
   "source": [
    "## Gaussian distribution.\n",
    "\n",
    "To create a gaussian distribution object, call `d.Gaussian`. This takes three parameters:\n",
    "\n",
    "* the name of the symbol. Typically you will want to use 'x', as this is common when referring to a variable taken from a Gaussian/normal distribution.\n",
    "* the mean. This defaults to a symbol `mu`.\n",
    "* the standard deviation. This defaults to a symbol `sigma`\n",
    "\n",
    "The mean and variance are stored as properties `mu` and `sigma` of the Gaussian symbol.\n",
    "\n",
    "[wikipedia](https://en.wikipedia.org/wiki/Normal_distribution) "
   ]
  },
  {
   "cell_type": "code",
   "execution_count": 3,
   "metadata": {},
   "outputs": [],
   "source": [
    "# create a gaussian r.v. with mean mu, standard deviation sigma:\n",
    "z = d.Gaussian('z')"
   ]
  },
  {
   "cell_type": "code",
   "execution_count": 4,
   "metadata": {},
   "outputs": [
    {
     "data": {
      "text/latex": [
       "$\\displaystyle \\mu,\\;\\mu^{2} + \\sigma^{2},\\;\\sigma^{2}$"
      ],
      "text/plain": [
       "<IPython.core.display.Math object>"
      ]
     },
     "execution_count": 4,
     "metadata": {},
     "output_type": "execute_result"
    }
   ],
   "source": [
    "# the first & second moments and the variance\n",
    "showmath(E(z), E(z**2), E(z**2)-E(z)**2)"
   ]
  },
  {
   "cell_type": "code",
   "execution_count": 5,
   "metadata": {},
   "outputs": [
    {
     "data": {
      "text/latex": [
       "$\\displaystyle \\frac{1}{\\sigma^{2}}$"
      ],
      "text/plain": [
       "sigma**(-2)"
      ]
     },
     "execution_count": 5,
     "metadata": {},
     "output_type": "execute_result"
    }
   ],
   "source": [
    "# the Fisher information with respect to the mean\n",
    "E(sp.diff(d.log(pr(z)),'mu')**2)"
   ]
  },
  {
   "cell_type": "markdown",
   "metadata": {},
   "source": [
    "## Binomial distribution.\n",
    "\n",
    "To create a binomial distribution, call `d.Binomial'. This takes three parameters:\n",
    "\n",
    "* the name of the symbol. Typically you will want to use 'y', as this is common when referring to a variable taken from a Gaussian/normal distribution.\n",
    "* the probability of success. This defaults to a symbol `p`.\n",
    "* the number of attempts. This defaults to a symbol `n`\n",
    "\n",
    "The probability and count are stored as properties `p` and `n` of the Binomial symbol.\n",
    "\n",
    "[wikipedia](https://en.wikipedia.org/wiki/Binomial_distribution)"
   ]
  },
  {
   "cell_type": "code",
   "execution_count": 6,
   "metadata": {},
   "outputs": [],
   "source": [
    "y = d.Binomial('y')"
   ]
  },
  {
   "cell_type": "code",
   "execution_count": 7,
   "metadata": {},
   "outputs": [],
   "source": [
    "# to make variance easy, define a Var function:\n",
    "def Var(x):\n",
    "    return sp.factor(E(x**2)-E(x)**2)"
   ]
  },
  {
   "cell_type": "code",
   "execution_count": 8,
   "metadata": {},
   "outputs": [
    {
     "data": {
      "text/latex": [
       "$\\displaystyle n p,\\;n p \\left(n p - p + 1\\right),\\;- n p \\left(p - 1\\right)$"
      ],
      "text/plain": [
       "<IPython.core.display.Math object>"
      ]
     },
     "execution_count": 8,
     "metadata": {},
     "output_type": "execute_result"
    }
   ],
   "source": [
    "showmath(E(y),E(y**2),Var(y))"
   ]
  },
  {
   "cell_type": "code",
   "execution_count": 12,
   "metadata": {},
   "outputs": [
    {
     "data": {
      "text/latex": [
       "$\\displaystyle - \\frac{n}{p \\left(p - 1\\right)}$"
      ],
      "text/plain": [
       "-n/(p*(p - 1))"
      ]
     },
     "execution_count": 12,
     "metadata": {},
     "output_type": "execute_result"
    }
   ],
   "source": [
    "# the Fisher information with respect to the probability p\n",
    "E(sp.factor(sp.diff(d.log(pr(y)),y.p))**2)"
   ]
  },
  {
   "cell_type": "markdown",
   "metadata": {},
   "source": [
    "## Poisson distribution.\n",
    "\n",
    "To create a Poisson distribution, call `d.Poisson'. This takes two parameters:\n",
    "\n",
    "* the name of the symbol. \n",
    "* the rate. This defaults to a symbol `lambda`.\n",
    "\n",
    "The rate symbol is stored as a property `_lambda` of the Poisson distribution symbol.\n",
    "\n",
    "[wikipedia](https://en.wikipedia.org/wiki/Poisson_distribution)"
   ]
  },
  {
   "cell_type": "code",
   "execution_count": 13,
   "metadata": {},
   "outputs": [],
   "source": [
    "y = d.Poisson('y')"
   ]
  },
  {
   "cell_type": "code",
   "execution_count": 14,
   "metadata": {},
   "outputs": [
    {
     "data": {
      "text/latex": [
       "$\\displaystyle \\lambda,\\;\\lambda \\left(\\lambda + 1\\right),\\;\\lambda$"
      ],
      "text/plain": [
       "<IPython.core.display.Math object>"
      ]
     },
     "execution_count": 14,
     "metadata": {},
     "output_type": "execute_result"
    }
   ],
   "source": [
    "showmath(E(y),E(y**2),Var(y))"
   ]
  },
  {
   "cell_type": "code",
   "execution_count": 16,
   "metadata": {},
   "outputs": [
    {
     "data": {
      "text/latex": [
       "$\\displaystyle \\frac{1}{\\lambda}$"
      ],
      "text/plain": [
       "1/lambda"
      ]
     },
     "execution_count": 16,
     "metadata": {},
     "output_type": "execute_result"
    }
   ],
   "source": [
    "# the Fisher information with respect to the rate\n",
    "E(sp.factor(sp.diff(d.log(pr(y)),y._lambda))**2)"
   ]
  },
  {
   "cell_type": "markdown",
   "metadata": {},
   "source": [
    "## Negative Binomial distribution.\n",
    "\n",
    "To create a negative binomial distribution, call `d.NegativeBinomial'. This takes three parameters:\n",
    "\n",
    "* the name of the symbol. \n",
    "* the probability. This defaults to a symbol `p`.\n",
    "* the count. This defaults to the symbol 'k'\n",
    "\n",
    "The rate and count symbols are stored as properties `p` and `k` of the distribution symbol.\n",
    "\n",
    "[wikipedia](https://en.wikipedia.org/wiki/Negative_binomial_distribution)"
   ]
  },
  {
   "cell_type": "code",
   "execution_count": 17,
   "metadata": {},
   "outputs": [],
   "source": [
    "x = d.NegativeBinomial('x')"
   ]
  },
  {
   "cell_type": "code",
   "execution_count": 18,
   "metadata": {},
   "outputs": [
    {
     "data": {
      "text/latex": [
       "$\\displaystyle - \\frac{p r}{p - 1},\\;\\frac{p r \\left(p r + 1\\right)}{\\left(p - 1\\right)^{2}},\\;\\frac{p r}{\\left(p - 1\\right)^{2}}$"
      ],
      "text/plain": [
       "<IPython.core.display.Math object>"
      ]
     },
     "execution_count": 18,
     "metadata": {},
     "output_type": "execute_result"
    }
   ],
   "source": [
    "showmath(E(x), E(x**2), Var(x))"
   ]
  },
  {
   "cell_type": "code",
   "execution_count": 19,
   "metadata": {},
   "outputs": [
    {
     "data": {
      "text/latex": [
       "$\\displaystyle \\frac{r}{p \\left(p - 1\\right)^{2}}$"
      ],
      "text/plain": [
       "r/(p*(p - 1)**2)"
      ]
     },
     "execution_count": 19,
     "metadata": {},
     "output_type": "execute_result"
    }
   ],
   "source": [
    "# the Fisher information with respect to the probability\n",
    "E(sp.factor(sp.diff(d.log(pr(x)),x.p))**2)"
   ]
  },
  {
   "cell_type": "markdown",
   "metadata": {},
   "source": [
    "## Geometric distribution.\n",
    "\n"
   ]
  },
  {
   "cell_type": "code",
   "execution_count": null,
   "metadata": {},
   "outputs": [],
   "source": []
  }
 ],
 "metadata": {
  "kernelspec": {
   "display_name": "Python 3",
   "language": "python",
   "name": "python3"
  },
  "language_info": {
   "codemirror_mode": {
    "name": "ipython",
    "version": 3
   },
   "file_extension": ".py",
   "mimetype": "text/x-python",
   "name": "python",
   "nbconvert_exporter": "python",
   "pygments_lexer": "ipython3",
   "version": "3.7.4"
  }
 },
 "nbformat": 4,
 "nbformat_minor": 2
}
