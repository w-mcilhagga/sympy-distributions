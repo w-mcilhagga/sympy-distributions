{
 "cells": [
  {
   "cell_type": "markdown",
   "metadata": {},
   "source": [
    "# Probability Distributions.\n",
    "\n",
    "Sympy has a stats module, but it has some pretty brutal limitations. For example, if I want to compute the expected value of a binomial random variable, I can't unless the number of trials is an integer."
   ]
  },
  {
   "cell_type": "code",
   "execution_count": 1,
   "metadata": {},
   "outputs": [
    {
     "name": "stdout",
     "output_type": "stream",
     "text": [
      "E(X) fails\n"
     ]
    }
   ],
   "source": [
    "# example of sympy.stats limitations\n",
    "import sympy as sp\n",
    "from sympy.stats import Binomial as Bin\n",
    "from sympy.stats import E as Ex\n",
    "\n",
    "n = sp.Symbol('n', positive=True, integer=True)\n",
    "p = sp.Symbol('p', positive=True)\n",
    "X = Bin('X', n, p) \n",
    "\n",
    "try:\n",
    "    Ex(X) # fails with n is not an integer\n",
    "except:\n",
    "    print('E(X) fails')"
   ]
  },
  {
   "cell_type": "markdown",
   "metadata": {},
   "source": [
    "I needed to do this, and more, for another project, so I created a distributions module `distributions.py` which allows you to work out probabilities, moments, expected values, and Fisher information for a number of common statistical distributions.\n",
    "\n",
    "It works by defining the probability desnity function and the moment generating function for all the distributions. Sometime in the future, I'll attempt to work these out as sympy calculations rather than define them. However, this could prove difficult. For example, sympy can integrate `exp(-x**2)` but not `exp(-(x-mu)**2)`.\n",
    "\n",
    "To get started, `import` the `distributions.py` file. You'll need to have `sympy` installed."
   ]
  },
  {
   "cell_type": "code",
   "execution_count": 2,
   "metadata": {},
   "outputs": [],
   "source": [
    "# import some common functions. Note that log is like sympy.log but forces expansion\n",
    "from distributions import E, pr, log\n",
    "\n",
    "# code to display a tuple of sympy expr as math\n",
    "import IPython\n",
    "\n",
    "def showmath(*args):\n",
    "    return IPython.display.Math(',\\\\;'.join([sp.latex(a) for a in args]))\n",
    "\n",
    "# variance can be defined based on E\n",
    "def Var(x):\n",
    "    return sp.factor(E(x**2)-E(x)**2)"
   ]
  },
  {
   "cell_type": "markdown",
   "metadata": {},
   "source": [
    "## Binomial distribution.\n",
    "\n",
    "To create a binomial distribution, call `Binomial'. This takes three parameters:\n",
    "\n",
    "* the name of the symbol. Typically you will want to use 'y', as this is common when referring to a variable taken from a Gaussian/normal distribution.\n",
    "* the probability of success. This defaults to a symbol `p`.\n",
    "* the number of attempts. This defaults to a symbol `n`\n",
    "\n",
    "The probability and count are stored as properties `p` and `n` of the Binomial symbol.\n",
    "\n",
    "[wikipedia](https://en.wikipedia.org/wiki/Binomial_distribution)"
   ]
  },
  {
   "cell_type": "code",
   "execution_count": 3,
   "metadata": {},
   "outputs": [
    {
     "data": {
      "text/latex": [
       "$\\displaystyle p^{y} \\left(1 - p\\right)^{- y + n} {\\binom{y}{n}}$"
      ],
      "text/plain": [
       "p**y*(1 - p)**(-y + n)*binomial(y, n)"
      ]
     },
     "execution_count": 3,
     "metadata": {},
     "output_type": "execute_result"
    }
   ],
   "source": [
    "from distributions import Binomial\n",
    "y = Binomial('y')\n",
    "pr(y)"
   ]
  },
  {
   "cell_type": "code",
   "execution_count": 4,
   "metadata": {},
   "outputs": [
    {
     "data": {
      "text/latex": [
       "$\\displaystyle n p,\\;n p \\left(n p - p + 1\\right),\\;- n p \\left(p - 1\\right)$"
      ],
      "text/plain": [
       "<IPython.core.display.Math object>"
      ]
     },
     "execution_count": 4,
     "metadata": {},
     "output_type": "execute_result"
    }
   ],
   "source": [
    "showmath(E(y),E(y**2),Var(y))"
   ]
  },
  {
   "cell_type": "code",
   "execution_count": 5,
   "metadata": {},
   "outputs": [
    {
     "data": {
      "text/latex": [
       "$\\displaystyle - \\frac{n}{p \\left(p - 1\\right)}$"
      ],
      "text/plain": [
       "-n/(p*(p - 1))"
      ]
     },
     "execution_count": 5,
     "metadata": {},
     "output_type": "execute_result"
    }
   ],
   "source": [
    "# the Fisher information with respect to the probability p\n",
    "E(sp.diff(log(pr(y)),y.p)**2)"
   ]
  },
  {
   "cell_type": "markdown",
   "metadata": {},
   "source": [
    "## Gaussian distribution.\n",
    "\n",
    "To create a gaussian distribution object, call `Gaussian`. This takes three parameters:\n",
    "\n",
    "* the name of the symbol. Typically you will want to use 'x' or 'z', as this is common when referring to a variable taken from a Gaussian/normal distribution.\n",
    "* the mean. This defaults to a symbol `mu`.\n",
    "* the standard deviation. This defaults to a symbol `sigma`\n",
    "\n",
    "The mean and variance are stored as properties `mu` and `sigma` of the Gaussian symbol.\n",
    "\n",
    "[wikipedia](https://en.wikipedia.org/wiki/Normal_distribution) "
   ]
  },
  {
   "cell_type": "code",
   "execution_count": 6,
   "metadata": {},
   "outputs": [
    {
     "data": {
      "text/latex": [
       "$\\displaystyle \\frac{\\sqrt{2} e^{- \\frac{\\left(z - \\mu\\right)^{2}}{2 \\sigma^{2}}}}{2 \\sqrt{\\pi} \\sqrt{\\sigma^{2}}}$"
      ],
      "text/plain": [
       "sqrt(2)*exp(-(z - mu)**2/(2*sigma**2))/(2*sqrt(pi)*sqrt(sigma**2))"
      ]
     },
     "execution_count": 6,
     "metadata": {},
     "output_type": "execute_result"
    }
   ],
   "source": [
    "# create a gaussian r.v. with mean mu, standard deviation sigma:\n",
    "from distributions import Gaussian\n",
    "z = Gaussian('z')\n",
    "pr(z)"
   ]
  },
  {
   "cell_type": "code",
   "execution_count": 7,
   "metadata": {},
   "outputs": [
    {
     "data": {
      "text/latex": [
       "$\\displaystyle \\mu,\\;\\mu^{2} + \\sigma^{2},\\;\\sigma^{2}$"
      ],
      "text/plain": [
       "<IPython.core.display.Math object>"
      ]
     },
     "execution_count": 7,
     "metadata": {},
     "output_type": "execute_result"
    }
   ],
   "source": [
    "showmath(E(z), E(z**2), Var(z))"
   ]
  },
  {
   "cell_type": "code",
   "execution_count": 8,
   "metadata": {},
   "outputs": [
    {
     "data": {
      "text/latex": [
       "$\\displaystyle \\frac{1}{\\sigma^{2}}$"
      ],
      "text/plain": [
       "sigma**(-2)"
      ]
     },
     "execution_count": 8,
     "metadata": {},
     "output_type": "execute_result"
    }
   ],
   "source": [
    "# the Fisher information with respect to the mean\n",
    "E(sp.diff(log(pr(z)),'mu')**2)"
   ]
  },
  {
   "cell_type": "markdown",
   "metadata": {},
   "source": [
    "## Poisson distribution.\n",
    "\n",
    "To create a Poisson distribution, call `Poisson'. This takes two parameters:\n",
    "\n",
    "* the name of the symbol. \n",
    "* the rate. This defaults to a symbol `lambda`.\n",
    "\n",
    "The rate symbol is stored as a property `_lambda` of the Poisson distribution symbol.\n",
    "\n",
    "[wikipedia](https://en.wikipedia.org/wiki/Poisson_distribution)"
   ]
  },
  {
   "cell_type": "code",
   "execution_count": 9,
   "metadata": {},
   "outputs": [
    {
     "data": {
      "text/latex": [
       "$\\displaystyle \\frac{\\lambda^{y} e^{- \\lambda}}{y!}$"
      ],
      "text/plain": [
       "lambda**y*exp(-lambda)/factorial(y)"
      ]
     },
     "execution_count": 9,
     "metadata": {},
     "output_type": "execute_result"
    }
   ],
   "source": [
    "from distributions import Poisson\n",
    "y = Poisson('y')\n",
    "pr(y)"
   ]
  },
  {
   "cell_type": "code",
   "execution_count": 10,
   "metadata": {},
   "outputs": [
    {
     "data": {
      "text/latex": [
       "$\\displaystyle \\lambda,\\;\\lambda \\left(\\lambda + 1\\right),\\;\\lambda$"
      ],
      "text/plain": [
       "<IPython.core.display.Math object>"
      ]
     },
     "execution_count": 10,
     "metadata": {},
     "output_type": "execute_result"
    }
   ],
   "source": [
    "showmath(E(y),E(y**2),Var(y))"
   ]
  },
  {
   "cell_type": "code",
   "execution_count": 11,
   "metadata": {},
   "outputs": [
    {
     "data": {
      "text/latex": [
       "$\\displaystyle \\frac{1}{\\lambda}$"
      ],
      "text/plain": [
       "1/lambda"
      ]
     },
     "execution_count": 11,
     "metadata": {},
     "output_type": "execute_result"
    }
   ],
   "source": [
    "# the Fisher information with respect to the rate\n",
    "E(sp.diff(log(pr(y)),y._lambda)**2)"
   ]
  },
  {
   "cell_type": "markdown",
   "metadata": {},
   "source": [
    "## Negative Binomial distribution.\n",
    "\n",
    "To create a negative binomial distribution, call `NegativeBinomial`. This takes three parameters:\n",
    "\n",
    "* the name of the symbol. \n",
    "* the probability. This defaults to a symbol `p`.\n",
    "* the count. This defaults to the symbol 'k'\n",
    "\n",
    "The rate and count symbols are stored as properties `p` and `k` of the distribution symbol.\n",
    "\n",
    "[wikipedia](https://en.wikipedia.org/wiki/Negative_binomial_distribution)"
   ]
  },
  {
   "cell_type": "code",
   "execution_count": 12,
   "metadata": {},
   "outputs": [
    {
     "data": {
      "text/latex": [
       "$\\displaystyle p^{x} \\left(1 - p\\right)^{r} {\\binom{x + r - 1}{x}}$"
      ],
      "text/plain": [
       "p**x*(1 - p)**r*binomial(x + r - 1, x)"
      ]
     },
     "execution_count": 12,
     "metadata": {},
     "output_type": "execute_result"
    }
   ],
   "source": [
    "from distributions import NegativeBinomial\n",
    "x = NegativeBinomial('x')\n",
    "pr(x)"
   ]
  },
  {
   "cell_type": "code",
   "execution_count": 13,
   "metadata": {},
   "outputs": [
    {
     "data": {
      "text/latex": [
       "$\\displaystyle - \\frac{p r}{p - 1},\\;\\frac{p r \\left(p r + 1\\right)}{\\left(p - 1\\right)^{2}},\\;\\frac{p r}{\\left(p - 1\\right)^{2}}$"
      ],
      "text/plain": [
       "<IPython.core.display.Math object>"
      ]
     },
     "execution_count": 13,
     "metadata": {},
     "output_type": "execute_result"
    }
   ],
   "source": [
    "showmath(E(x), E(x**2), Var(x))"
   ]
  },
  {
   "cell_type": "code",
   "execution_count": 14,
   "metadata": {},
   "outputs": [
    {
     "data": {
      "text/latex": [
       "$\\displaystyle \\frac{r}{p \\left(p - 1\\right)^{2}}$"
      ],
      "text/plain": [
       "r/(p*(p - 1)**2)"
      ]
     },
     "execution_count": 14,
     "metadata": {},
     "output_type": "execute_result"
    }
   ],
   "source": [
    "# the Fisher information with respect to the probability\n",
    "E(sp.diff(log(pr(x)),x.p)**2)"
   ]
  },
  {
   "cell_type": "markdown",
   "metadata": {},
   "source": [
    "## Geometric distribution.\n",
    "\n",
    "To create a geometric distribution, call `Geometric`. This takes two parameters:\n",
    "\n",
    "* the name of the symbol\n",
    "* the probability: this defaults to the symbol `p`\n",
    "\n",
    "The probability is stored as property `p` of the distribution.\n",
    "\n",
    "[wikipedia](https://en.wikipedia.org/wiki/Geometric_distribution)\n"
   ]
  },
  {
   "cell_type": "code",
   "execution_count": 15,
   "metadata": {},
   "outputs": [
    {
     "data": {
      "text/latex": [
       "$\\displaystyle p \\left(1 - p\\right) \\left(y - 1\\right)$"
      ],
      "text/plain": [
       "p*(1 - p)*(y - 1)"
      ]
     },
     "execution_count": 15,
     "metadata": {},
     "output_type": "execute_result"
    }
   ],
   "source": [
    "from distributions import Geometric\n",
    "y = Geometric('y')\n",
    "pr(y)"
   ]
  },
  {
   "cell_type": "code",
   "execution_count": 16,
   "metadata": {},
   "outputs": [
    {
     "data": {
      "text/latex": [
       "$\\displaystyle \\frac{1}{p},\\;- \\frac{p - 2}{p^{2}},\\;- \\frac{p - 1}{p^{2}}$"
      ],
      "text/plain": [
       "<IPython.core.display.Math object>"
      ]
     },
     "execution_count": 16,
     "metadata": {},
     "output_type": "execute_result"
    }
   ],
   "source": [
    "showmath(E(y),E(y**2),Var(y))"
   ]
  },
  {
   "cell_type": "code",
   "execution_count": 17,
   "metadata": {},
   "outputs": [
    {
     "data": {
      "text/latex": [
       "$\\displaystyle \\frac{\\left(2 p - 1\\right)^{2}}{p^{2} \\left(p - 1\\right)^{2}}$"
      ],
      "text/plain": [
       "(2*p - 1)**2/(p**2*(p - 1)**2)"
      ]
     },
     "execution_count": 17,
     "metadata": {},
     "output_type": "execute_result"
    }
   ],
   "source": [
    "# Fisher info\n",
    "E(sp.diff(log(pr(y)),y.p)**2)"
   ]
  },
  {
   "cell_type": "markdown",
   "metadata": {},
   "source": [
    "## Gamma Distribution.\n",
    "\n",
    "To create a Gamma distribution use `Gamma`. It takes three parameters:\n",
    "\n",
    "* the name of the symbol\n",
    "* the shape parameter k: this defaults to a symbol `k`\n",
    "* the scale parameter theta: this defaults to the symbol `theta`\n",
    "\n",
    "The shape and scale parameters are stored as properties `k` and `theta` of the gamma object. When $k=1$ this is an exponential distribution.\n",
    "\n",
    "Alternatively, `Gamma_alt(name, alpha, beta)` lets you specify the distribution with shape $\\alpha=k$ and rate parameter $\\beta=1/\\theta$\n",
    "\n",
    "[wikipedia](https://en.wikipedia.org/wiki/Gamma_distribution)"
   ]
  },
  {
   "cell_type": "code",
   "execution_count": 18,
   "metadata": {},
   "outputs": [
    {
     "data": {
      "text/latex": [
       "$\\displaystyle \\frac{x^{k - 1} \\theta^{- x} e^{- \\frac{x}{\\theta}}}{\\Gamma\\left(x\\right)}$"
      ],
      "text/plain": [
       "x**(k - 1)*theta**(-x)*exp(-x/theta)/gamma(x)"
      ]
     },
     "execution_count": 18,
     "metadata": {},
     "output_type": "execute_result"
    }
   ],
   "source": [
    "from distributions import Gamma\n",
    "x = Gamma('x')\n",
    "pr(x)"
   ]
  },
  {
   "cell_type": "code",
   "execution_count": 19,
   "metadata": {},
   "outputs": [
    {
     "data": {
      "text/latex": [
       "$\\displaystyle k \\theta,\\;k \\theta^{2} \\left(k + 1\\right),\\;k \\theta^{2}$"
      ],
      "text/plain": [
       "<IPython.core.display.Math object>"
      ]
     },
     "execution_count": 19,
     "metadata": {},
     "output_type": "execute_result"
    }
   ],
   "source": [
    "showmath(E(x),E(x**2),Var(x))"
   ]
  },
  {
   "cell_type": "code",
   "execution_count": 20,
   "metadata": {},
   "outputs": [
    {
     "data": {
      "text/latex": [
       "$\\displaystyle \\frac{k \\left(k + 1\\right) \\left(\\theta - 1\\right)^{2}}{\\theta^{2}}$"
      ],
      "text/plain": [
       "k*(k + 1)*(theta - 1)**2/theta**2"
      ]
     },
     "execution_count": 20,
     "metadata": {},
     "output_type": "execute_result"
    }
   ],
   "source": [
    "# Fisher info with respect to theta\n",
    "E(sp.diff(log(pr(x)),x.theta)**2)"
   ]
  },
  {
   "cell_type": "code",
   "execution_count": 21,
   "metadata": {},
   "outputs": [
    {
     "data": {
      "text/latex": [
       "$\\displaystyle \\frac{x^{\\alpha - 1} \\left(\\frac{1}{\\beta}\\right)^{- x} e^{- x \\beta}}{\\Gamma\\left(x\\right)}$"
      ],
      "text/plain": [
       "x**(alpha - 1)*(1/beta)**(-x)*exp(-x*beta)/gamma(x)"
      ]
     },
     "execution_count": 21,
     "metadata": {},
     "output_type": "execute_result"
    }
   ],
   "source": [
    "from distributions import Gamma_alt\n",
    "x = Gamma_alt('x')\n",
    "pr(x)"
   ]
  },
  {
   "cell_type": "code",
   "execution_count": 22,
   "metadata": {},
   "outputs": [
    {
     "data": {
      "text/latex": [
       "$\\displaystyle \\frac{\\alpha}{\\beta},\\;\\frac{\\alpha \\left(\\alpha + 1\\right)}{\\beta^{2}},\\;\\frac{\\alpha}{\\beta^{2}}$"
      ],
      "text/plain": [
       "<IPython.core.display.Math object>"
      ]
     },
     "execution_count": 22,
     "metadata": {},
     "output_type": "execute_result"
    }
   ],
   "source": [
    "showmath(E(x),E(x**2),Var(x))"
   ]
  },
  {
   "cell_type": "code",
   "execution_count": 23,
   "metadata": {},
   "outputs": [
    {
     "data": {
      "text/latex": [
       "$\\displaystyle \\frac{\\alpha \\left(\\alpha + 1\\right) \\left(\\beta - 1\\right)^{2}}{\\beta^{4}}$"
      ],
      "text/plain": [
       "alpha*(alpha + 1)*(beta - 1)**2/beta**4"
      ]
     },
     "execution_count": 23,
     "metadata": {},
     "output_type": "execute_result"
    }
   ],
   "source": [
    "# Fisher info wrt beta\n",
    "E(sp.diff(log(pr(x)),sp.Symbol('beta'))**2)"
   ]
  },
  {
   "cell_type": "markdown",
   "metadata": {},
   "source": [
    "## The Inverse Gaussian distribution.\n",
    "\n",
    "Use `InverseGaussian`. It takes three parameters\n",
    "\n",
    "* name\n",
    "* the mean `mu`\n",
    "* the scale `_lambda`\n",
    "\n",
    "[wikipedia](https://en.wikipedia.org/wiki/Inverse_Gaussian_distribution)"
   ]
  },
  {
   "cell_type": "code",
   "execution_count": 24,
   "metadata": {},
   "outputs": [
    {
     "data": {
      "text/latex": [
       "$\\displaystyle \\frac{\\sqrt{2} \\sqrt{\\lambda} e^{- \\frac{\\lambda \\left(x - \\mu\\right)^{2}}{2 x \\mu^{2}}}}{2 x^{\\frac{3}{2}} \\sqrt{\\pi}}$"
      ],
      "text/plain": [
       "sqrt(2)*sqrt(lambda)*exp(-lambda*(x - mu)**2/(2*x*mu**2))/(2*x**(3/2)*sqrt(pi))"
      ]
     },
     "execution_count": 24,
     "metadata": {},
     "output_type": "execute_result"
    }
   ],
   "source": [
    "from distributions import InverseGaussian\n",
    "x = InverseGaussian('x')\n",
    "pr(x)"
   ]
  },
  {
   "cell_type": "code",
   "execution_count": 25,
   "metadata": {},
   "outputs": [
    {
     "data": {
      "text/latex": [
       "$\\displaystyle \\mu,\\;\\frac{\\mu^{2} \\left(\\lambda + \\mu\\right)}{\\lambda},\\;\\frac{\\mu^{3}}{\\lambda}$"
      ],
      "text/plain": [
       "<IPython.core.display.Math object>"
      ]
     },
     "execution_count": 25,
     "metadata": {},
     "output_type": "execute_result"
    }
   ],
   "source": [
    "showmath(E(x),E(x**2),Var(x))"
   ]
  },
  {
   "cell_type": "code",
   "execution_count": 26,
   "metadata": {},
   "outputs": [
    {
     "data": {
      "text/latex": [
       "$\\displaystyle \\frac{\\lambda}{\\mu^{3}}$"
      ],
      "text/plain": [
       "lambda/mu**3"
      ]
     },
     "execution_count": 26,
     "metadata": {},
     "output_type": "execute_result"
    }
   ],
   "source": [
    "# Fisher info with respect to mu\n",
    "E(sp.diff(log(pr(x)),x.mu)**2)"
   ]
  },
  {
   "cell_type": "markdown",
   "metadata": {},
   "source": [
    "## Others.\n",
    "The module also has uniform and chi-squared distributions, but chi-squared is not fully supported."
   ]
  },
  {
   "cell_type": "code",
   "execution_count": 27,
   "metadata": {},
   "outputs": [
    {
     "data": {
      "text/latex": [
       "$\\displaystyle \\frac{1}{- a + b}$"
      ],
      "text/plain": [
       "1/(-a + b)"
      ]
     },
     "execution_count": 27,
     "metadata": {},
     "output_type": "execute_result"
    }
   ],
   "source": [
    "from distributions import Uniform # over range [a...b]\n",
    "u = Uniform('u')\n",
    "pr(u)"
   ]
  },
  {
   "cell_type": "code",
   "execution_count": 28,
   "metadata": {},
   "outputs": [
    {
     "data": {
      "text/latex": [
       "$\\displaystyle \\frac{a + b}{2},\\;\\frac{a^{2} + a b + b^{2}}{3},\\;\\frac{\\left(a - b\\right)^{2}}{12}$"
      ],
      "text/plain": [
       "<IPython.core.display.Math object>"
      ]
     },
     "execution_count": 28,
     "metadata": {},
     "output_type": "execute_result"
    }
   ],
   "source": [
    "# NB: this is slow because it needs to call sympy.limit\n",
    "showmath(E(u),E(u**2),Var(u))"
   ]
  },
  {
   "cell_type": "code",
   "execution_count": 29,
   "metadata": {},
   "outputs": [
    {
     "data": {
      "text/latex": [
       "$\\displaystyle \\frac{1}{\\left(a - b\\right)^{2}},\\;\\frac{1}{\\left(a - b\\right)^{2}}$"
      ],
      "text/plain": [
       "<IPython.core.display.Math object>"
      ]
     },
     "execution_count": 29,
     "metadata": {},
     "output_type": "execute_result"
    }
   ],
   "source": [
    "# Fisher info with respect to a, b\n",
    "showmath(E(sp.diff(log(pr(u)),'a')**2), E(sp.diff(log(pr(u)),'b')**2))"
   ]
  },
  {
   "cell_type": "code",
   "execution_count": null,
   "metadata": {},
   "outputs": [],
   "source": []
  }
 ],
 "metadata": {
  "kernelspec": {
   "display_name": "Python 3",
   "language": "python",
   "name": "python3"
  },
  "language_info": {
   "codemirror_mode": {
    "name": "ipython",
    "version": 3
   },
   "file_extension": ".py",
   "mimetype": "text/x-python",
   "name": "python",
   "nbconvert_exporter": "python",
   "pygments_lexer": "ipython3",
   "version": "3.7.4"
  }
 },
 "nbformat": 4,
 "nbformat_minor": 2
}
